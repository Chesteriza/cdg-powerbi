{
 "cells": [
  {
   "cell_type": "markdown",
   "metadata": {},
   "source": [
    "## Exploratory Data Analysis\n",
    "The purpose of this notebook is to explore the database that we have set up with our earlier scripts. Through our exploration, we hope to understand the business better and create a dashboard that would be meaningful for the business. "
   ]
  },
  {
   "cell_type": "code",
   "execution_count": 1,
   "metadata": {},
   "outputs": [],
   "source": [
    "## Loading of relevant packages and database\n",
    "import pandas as pd\n",
    "import numpy as np\n",
    "import pickle\n",
    "import sqlalchemy as sal\n",
    "\n",
    "from os import chdir\n",
    "from tqdm import tqdm"
   ]
  },
  {
   "cell_type": "code",
   "execution_count": 2,
   "metadata": {},
   "outputs": [],
   "source": [
    "## Establish connection\n",
    "conn = sal.create_engine(\"mssql+pyodbc://CHESTERIZA\\SQLEXPRESS/cdg?driver=SQL Server?Trusted_Connection=yes\")\n",
    "\n"
   ]
  },
  {
   "cell_type": "markdown",
   "metadata": {},
   "source": [
    "We will load the dataset and print out the info to identify missing entries and their respective variable data types."
   ]
  },
  {
   "cell_type": "code",
   "execution_count": 3,
   "metadata": {},
   "outputs": [],
   "source": [
    "## Loading of database into DataFrame\n",
    "FactStore_df = pd.read_sql(\"SELECT * FROM FactStore\", conn)\n",
    "DimStores_df = pd.read_sql(\"SELECT * FROM DimStores\", conn)\n",
    "DimDates_df = pd.read_sql(\"SELECT * FROM DimDates\", conn)\n",
    "DimProducts_df = pd.read_sql(\"SELECT * FROM DimProducts\", conn)"
   ]
  },
  {
   "cell_type": "code",
   "execution_count": 4,
   "metadata": {},
   "outputs": [
    {
     "name": "stdout",
     "output_type": "stream",
     "text": [
      "<class 'pandas.core.frame.DataFrame'>\n",
      "RangeIndex: 1547896 entries, 0 to 1547895\n",
      "Data columns (total 8 columns):\n",
      "DateID           1547896 non-null object\n",
      "StoreID          1547896 non-null int64\n",
      "ProductID        1547896 non-null int64\n",
      "OnHandQty        1547896 non-null int64\n",
      "OnOrderQty       1547896 non-null int64\n",
      "DaysInStock      1547896 non-null int64\n",
      "MinDayInStock    1547896 non-null int64\n",
      "MaxDayInStock    1547896 non-null int64\n",
      "dtypes: int64(7), object(1)\n",
      "memory usage: 94.5+ MB\n"
     ]
    }
   ],
   "source": [
    "FactStore_df.info()"
   ]
  },
  {
   "cell_type": "code",
   "execution_count": 5,
   "metadata": {},
   "outputs": [
    {
     "name": "stdout",
     "output_type": "stream",
     "text": [
      "<class 'pandas.core.frame.DataFrame'>\n",
      "RangeIndex: 305 entries, 0 to 304\n",
      "Data columns (total 7 columns):\n",
      "StoreID              305 non-null int64\n",
      "StoreName            305 non-null object\n",
      "CityName             305 non-null object\n",
      "StateProvinceName    305 non-null object\n",
      "RegionCountryName    305 non-null object\n",
      "StoreManager         305 non-null object\n",
      "StoreType            305 non-null object\n",
      "dtypes: int64(1), object(6)\n",
      "memory usage: 16.8+ KB\n"
     ]
    }
   ],
   "source": [
    "DimStores_df.info()"
   ]
  },
  {
   "cell_type": "code",
   "execution_count": 6,
   "metadata": {},
   "outputs": [
    {
     "name": "stdout",
     "output_type": "stream",
     "text": [
      "<class 'pandas.core.frame.DataFrame'>\n",
      "RangeIndex: 365 entries, 0 to 364\n",
      "Data columns (total 11 columns):\n",
      "DateID                365 non-null datetime64[ns]\n",
      "FullDateLabel         365 non-null object\n",
      "CalendarYear          365 non-null int64\n",
      "CalendarQuarter       365 non-null int64\n",
      "CalendarMonth         365 non-null int64\n",
      "CalendarMonthName     365 non-null object\n",
      "CalendarDayOfWeek     365 non-null int64\n",
      "WeekDayName           365 non-null object\n",
      "EuropeSeason          365 non-null object\n",
      "NorthAmericaSeason    365 non-null object\n",
      "AsiaSeason            365 non-null object\n",
      "dtypes: datetime64[ns](1), int64(4), object(6)\n",
      "memory usage: 31.5+ KB\n"
     ]
    }
   ],
   "source": [
    "DimDates_df.info()"
   ]
  },
  {
   "cell_type": "code",
   "execution_count": 7,
   "metadata": {},
   "outputs": [
    {
     "name": "stdout",
     "output_type": "stream",
     "text": [
      "<class 'pandas.core.frame.DataFrame'>\n",
      "RangeIndex: 2517 entries, 0 to 2516\n",
      "Data columns (total 6 columns):\n",
      "ProductID                 2517 non-null int64\n",
      "ProductName               2517 non-null object\n",
      "ProductDescription        2516 non-null object\n",
      "ProductCategoryName       2517 non-null object\n",
      "ProductSubcategoryName    2517 non-null object\n",
      "Manufacturer              2517 non-null object\n",
      "dtypes: int64(1), object(5)\n",
      "memory usage: 118.1+ KB\n"
     ]
    }
   ],
   "source": [
    "DimProducts_df.info()"
   ]
  },
  {
   "cell_type": "markdown",
   "metadata": {},
   "source": [
    "### General Understanding of the Business\n",
    "Assuming that each store has a unique StoreID, the business currently operates 306 stores in 35 countries and sells 2508 products. \n",
    "\n"
   ]
  },
  {
   "cell_type": "code",
   "execution_count": 8,
   "metadata": {},
   "outputs": [
    {
     "name": "stdout",
     "output_type": "stream",
     "text": [
      "Business has 306 stores in total\n",
      "Business operates in 35 country\n",
      "Business has 2508 products in total\n"
     ]
    }
   ],
   "source": [
    "## General Business Understanding\n",
    "print(\"Business has \" + str(len(FactStore_df.StoreID.unique())) + \" stores in total\")\n",
    "## \n",
    "\n",
    "print(\"Business operates in \" + str(len(DimStores_df.RegionCountryName.unique())) + \" country\")\n",
    "DimStores_df.RegionCountryName.unique()\n",
    "\n",
    "print(\"Business has \" + str(len(FactStore_df.ProductID.unique())) + \" products in total\")\n"
   ]
  },
  {
   "cell_type": "markdown",
   "metadata": {},
   "source": [
    "We also notice that there is a missing StoreID in the DimStore table. The StoreID 227 is missing from the DimStore Table."
   ]
  },
  {
   "cell_type": "code",
   "execution_count": 9,
   "metadata": {},
   "outputs": [
    {
     "data": {
      "text/plain": [
       "[227]"
      ]
     },
     "execution_count": 9,
     "metadata": {},
     "output_type": "execute_result"
    }
   ],
   "source": [
    "[i for i in FactStore_df.StoreID.unique() if i not in DimStores_df.StoreID.unique()]"
   ]
  },
  {
   "cell_type": "code",
   "execution_count": 10,
   "metadata": {},
   "outputs": [
    {
     "name": "stdout",
     "output_type": "stream",
     "text": [
      "Type of stores that we operate\n"
     ]
    },
    {
     "data": {
      "text/plain": [
       "array(['Store', 'Reseller', 'Online', 'Catalog'], dtype=object)"
      ]
     },
     "execution_count": 10,
     "metadata": {},
     "output_type": "execute_result"
    }
   ],
   "source": [
    "## Type of stores that we operate\n",
    "print(\"Type of stores that we operate\")\n",
    "DimStores_df.StoreType.unique()"
   ]
  },
  {
   "cell_type": "code",
   "execution_count": 11,
   "metadata": {},
   "outputs": [
    {
     "name": "stdout",
     "output_type": "stream",
     "text": [
      "Product Categories that we carry\n"
     ]
    },
    {
     "data": {
      "text/plain": [
       "array(['TV and Video', 'Computers', 'Audio', 'Cameras and camcorders ',\n",
       "       'Cell phones', 'Music, Movies and Audio Books', 'Games and Toys',\n",
       "       'Home Appliances'], dtype=object)"
      ]
     },
     "execution_count": 11,
     "metadata": {},
     "output_type": "execute_result"
    }
   ],
   "source": [
    "print(\"Product Categories that we carry\")\n",
    "DimProducts_df.ProductCategoryName.unique()"
   ]
  },
  {
   "cell_type": "code",
   "execution_count": 12,
   "metadata": {},
   "outputs": [
    {
     "name": "stdout",
     "output_type": "stream",
     "text": [
      "Europe Seasons\n",
      "['Holiday' 'Spring/Business' 'None' 'Back to School']\n",
      "Asia Seasons\n",
      "['Holiday' 'Spring/Back to School' 'Tax Time/Summer' 'None']\n",
      "North America Season\n",
      "['Holiday' 'Spring/Back to School' 'Tax Time/Summer' 'None']\n"
     ]
    }
   ],
   "source": [
    "## Type of Seasons in the respective countries\n",
    "print(\"Europe Seasons\")\n",
    "print(DimDates_df.EuropeSeason.unique())\n",
    "\n",
    "print(\"Asia Seasons\")\n",
    "print(DimDates_df.AsiaSeason.unique())\n",
    "\n",
    "print(\"North America Season\")\n",
    "print(DimDates_df.AsiaSeason.unique())"
   ]
  },
  {
   "cell_type": "markdown",
   "metadata": {},
   "source": [
    "### Using PowerBI to understand the business further\n",
    "The objective of the dashboard is to enable stakeholders to make informed decisions about inventory management. \n",
    "\n",
    "* <strong>What is the stock volume trendline for respective product categories in the past 12 months?</strong> </br>\n",
    "\n",
    "Stock volume should not have too much fluctuation. Any anomaly changes in stock volume for each store could indicate operational problems leading to excess inventories or opportunities from surged in consumer demand.\n",
    "\n",
    "* <strong>How popular are our manufacturers?</strong> </br>\n",
    "\n",
    "As we are in the business of selling goods, it is important for us to know if our customers have any preference towards any manufacturers. This will help us in our management of supplier relationship and demand forecasting.\n",
    "\n",
    "* <strong>Which are the top performing product in each market and overall?</strong></br>\n",
    "\n",
    "As we have so many products, it is important for us to understand which products are doing. \n",
    "\n",
    "* <strong>How many stores do we have in each market and what type of stores?</strong></br>\n",
    "\n",
    "Given that the business is international, it would be important to know where are the cities we operates and how many stores we have there."
   ]
  },
  {
   "cell_type": "markdown",
   "metadata": {},
   "source": [
    "### Deciding on the key metrics to use to understand above mentioned questions.\n",
    "\n",
    "It is not very clear what the variables DaysInStock, MinDayInStock and MaxDayInStock means. Thus, we will make an assumption about the variables.\n",
    "\n",
    "* OnHand Quantity refers to the goods that the store currently has.\n",
    "* OnOrder Quantity refers to the goods that have been ordered by customers.\n",
    "* DaysInStock refers to the average number of days the product has been held by the store before sale.\n",
    "* MinDayInStock refers to the minimum number of days the product has been held by the store before sale.\n",
    "* MaxDayInStock refers to the maximum number of days the product has been held by the store before sale."
   ]
  },
  {
   "cell_type": "markdown",
   "metadata": {},
   "source": [
    "Success of a retail business often depends on how inventory is being managed. Thus, we will focus on OnHand and OnOrder Quantity for starters. The histogram of the OnHand and OnOrder Quantity reveal a situation where there are several store outliers with significantly higher OnHand and OnOrder Quantity. This means that using an average as an indicator for business metrics would not be desirable.\n"
   ]
  },
  {
   "cell_type": "code",
   "execution_count": 13,
   "metadata": {},
   "outputs": [],
   "source": [
    "## To explore time series plot\n",
    "# test = FactStore_df.merge(DimStores_df, how=\"inner\", on=\"StoreID\")\n",
    "# test.DateID = test.DateID.apply(lambda x: datetime.strptime(x, \"%Y-%m-%d\"))\n",
    "# test = test.set_index('DateID')\n",
    "# test.resample(\"M\").sum().OnOrderQty.plot()"
   ]
  },
  {
   "cell_type": "markdown",
   "metadata": {},
   "source": [
    "### Feature Engineering (Get Location Coordinates)\n",
    "We will use Bing Map API to obtain the coordinates of the Stores based on their location names. We will obtain coordinates up to the state province level. If we want to get up to the city level, we will use the city name as the locality parameter value in the Bing Map API. After obtaining the lat and long of the locations, we will create a new table with the location."
   ]
  },
  {
   "cell_type": "code",
   "execution_count": 14,
   "metadata": {},
   "outputs": [],
   "source": [
    "import requests\n",
    "\n",
    "def get_location_bing(countryRegion, adminDistrict, BingMapsKey):\n",
    "    url = f\"http://dev.virtualearth.net/REST/v1/Locations?countryRegion={countryRegion}&adminDistrict={adminDistrict}&key={BingMapsKey}\"\n",
    "    response = requests.get(url)\n",
    "    if response.status_code == 200:\n",
    "        data = response.json()\n",
    "        location = data['resourceSets'][0]['resources']\n",
    "        if len(location) > 0:\n",
    "            location = location[0]\n",
    "            location = location['geocodePoints'][0]['coordinates']\n",
    "        else:\n",
    "            location = None\n",
    "    return location"
   ]
  },
  {
   "cell_type": "code",
   "execution_count": 15,
   "metadata": {},
   "outputs": [
    {
     "name": "stderr",
     "output_type": "stream",
     "text": [
      "305it [00:59,  5.10it/s]\n"
     ]
    }
   ],
   "source": [
    "BingMapsKey = \"\" \n",
    "location_list = []\n",
    "for ind, row in tqdm(DimStores_df.iterrows()):\n",
    "    StoreID = row.StoreID\n",
    "    countryRegion = row.RegionCountryName\n",
    "    adminDistrict = row.StateProvinceName\n",
    "    location = get_location_bing(countryRegion, adminDistrict, BingMapsKey)\n",
    "    location_xy = {\"StoreID\": StoreID,\n",
    "                   \"RegionCountryName\":countryRegion,\n",
    "                   \"StateProvinceName\":adminDistrict,\n",
    "                   \"lat\":location[0], \n",
    "                   \"long\":location[1]}\n",
    "    location_list.append(location_xy)"
   ]
  },
  {
   "cell_type": "code",
   "execution_count": 17,
   "metadata": {},
   "outputs": [
    {
     "data": {
      "text/html": [
       "<div>\n",
       "<style scoped>\n",
       "    .dataframe tbody tr th:only-of-type {\n",
       "        vertical-align: middle;\n",
       "    }\n",
       "\n",
       "    .dataframe tbody tr th {\n",
       "        vertical-align: top;\n",
       "    }\n",
       "\n",
       "    .dataframe thead th {\n",
       "        text-align: right;\n",
       "    }\n",
       "</style>\n",
       "<table border=\"1\" class=\"dataframe\">\n",
       "  <thead>\n",
       "    <tr style=\"text-align: right;\">\n",
       "      <th></th>\n",
       "      <th>StoreID</th>\n",
       "      <th>RegionCountryName</th>\n",
       "      <th>StateProvinceName</th>\n",
       "      <th>lat</th>\n",
       "      <th>long</th>\n",
       "    </tr>\n",
       "  </thead>\n",
       "  <tbody>\n",
       "    <tr>\n",
       "      <th>0</th>\n",
       "      <td>4</td>\n",
       "      <td>United States</td>\n",
       "      <td>Washington</td>\n",
       "      <td>47.411373</td>\n",
       "      <td>-120.556366</td>\n",
       "    </tr>\n",
       "    <tr>\n",
       "      <th>1</th>\n",
       "      <td>156</td>\n",
       "      <td>United Kingdom</td>\n",
       "      <td>England</td>\n",
       "      <td>51.500153</td>\n",
       "      <td>-0.126236</td>\n",
       "    </tr>\n",
       "    <tr>\n",
       "      <th>2</th>\n",
       "      <td>88</td>\n",
       "      <td>United States</td>\n",
       "      <td>Texas</td>\n",
       "      <td>31.463793</td>\n",
       "      <td>-99.333275</td>\n",
       "    </tr>\n",
       "    <tr>\n",
       "      <th>3</th>\n",
       "      <td>214</td>\n",
       "      <td>United Kingdom</td>\n",
       "      <td>England</td>\n",
       "      <td>51.500153</td>\n",
       "      <td>-0.126236</td>\n",
       "    </tr>\n",
       "    <tr>\n",
       "      <th>4</th>\n",
       "      <td>201</td>\n",
       "      <td>United Kingdom</td>\n",
       "      <td>England</td>\n",
       "      <td>51.500153</td>\n",
       "      <td>-0.126236</td>\n",
       "    </tr>\n",
       "  </tbody>\n",
       "</table>\n",
       "</div>"
      ],
      "text/plain": [
       "   StoreID RegionCountryName StateProvinceName        lat        long\n",
       "0        4     United States        Washington  47.411373 -120.556366\n",
       "1      156    United Kingdom           England  51.500153   -0.126236\n",
       "2       88     United States             Texas  31.463793  -99.333275\n",
       "3      214    United Kingdom           England  51.500153   -0.126236\n",
       "4      201    United Kingdom           England  51.500153   -0.126236"
      ]
     },
     "execution_count": 17,
     "metadata": {},
     "output_type": "execute_result"
    }
   ],
   "source": [
    "# # Saving the file just in case\n",
    "location_df = pd.DataFrame(location_list)\n",
    "location_df.to_csv(\"location.csv\")\n",
    "location_df.head(5)"
   ]
  },
  {
   "cell_type": "code",
   "execution_count": 18,
   "metadata": {},
   "outputs": [],
   "source": [
    "## Writing a location table to act as look up for coordinates\n",
    "location_df.to_sql(\"DimStores_Location\", conn, if_exists=\"replace\", index=False)"
   ]
  }
 ],
 "metadata": {
  "kernelspec": {
   "display_name": "Python 3",
   "language": "python",
   "name": "python3"
  },
  "language_info": {
   "codemirror_mode": {
    "name": "ipython",
    "version": 3
   },
   "file_extension": ".py",
   "mimetype": "text/x-python",
   "name": "python",
   "nbconvert_exporter": "python",
   "pygments_lexer": "ipython3",
   "version": "3.7.3"
  }
 },
 "nbformat": 4,
 "nbformat_minor": 2
}
